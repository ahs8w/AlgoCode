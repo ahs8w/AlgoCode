{
 "cells": [
  {
   "cell_type": "markdown",
   "metadata": {},
   "source": [
    "Source url: https://deliverypdf.ssrn.com/delivery.php?ID=490074106114126089127087005025083104041021014087045043087031000025124102014084005075048120001122008096009114108071087003028085008007035089016087085078094064014027120024034042092090017065097066127121031097119115116105085096075025098106097072115086115007&EXT=pdf&INDEX=TRUE"
   ]
  },
  {
   "cell_type": "markdown",
   "metadata": {},
   "source": [
    "> Furthermore, we eliminate duplicate headlines for the same company on the same day and extremely similar headlines.\n",
    "> We gauge headline similarity using the Optimal String Alignment metric (also known as the\n",
    "> Restricted Damerau-Levenshtein distance) and remove headlines with a similarity greater\n",
    "> than 0.6 for the same company on the same day."
   ]
  },
  {
   "cell_type": "code",
   "execution_count": 1,
   "metadata": {},
   "outputs": [],
   "source": [
    "# import urllib.request,sys,time\n",
    "# from bs4 import BeautifulSoup\n",
    "import requests\n",
    "import pandas as pd"
   ]
  },
  {
   "cell_type": "code",
   "execution_count": 2,
   "metadata": {},
   "outputs": [],
   "source": [
    "search_term = 'tesla'"
   ]
  },
  {
   "cell_type": "markdown",
   "metadata": {},
   "source": [
    "# Google News - RSS"
   ]
  },
  {
   "cell_type": "code",
   "execution_count": 3,
   "metadata": {},
   "outputs": [],
   "source": [
    "gnews_url = f'https://news.google.com/rss/search?q={search_term}&hl=en-US&gl=US&ceid=US:en'\n",
    "page = requests.get(gnews_url)"
   ]
  },
  {
   "cell_type": "code",
   "execution_count": 4,
   "metadata": {},
   "outputs": [],
   "source": [
    "df = pd.read_xml(page.text, xpath=\".//item\")"
   ]
  },
  {
   "cell_type": "code",
   "execution_count": 7,
   "metadata": {},
   "outputs": [],
   "source": [
    "# set dtypes\n",
    "df['pubDate'] = pd.to_datetime(df['pubDate'])\n",
    "df['title'] = df['title'].astype(\"string\")\n",
    "df['link'] = df['link'].astype(\"string\")\n",
    "df['source'] = df['source'].astype(\"string\")\n",
    "\n",
    "# filter and sort\n",
    "df = df.select_dtypes(exclude='object')\n",
    "df = df.sort_values('pubDate', ascending=False)"
   ]
  },
  {
   "cell_type": "code",
   "execution_count": 17,
   "metadata": {},
   "outputs": [
    {
     "data": {
      "text/html": [
       "<div>\n",
       "<style scoped>\n",
       "    .dataframe tbody tr th:only-of-type {\n",
       "        vertical-align: middle;\n",
       "    }\n",
       "\n",
       "    .dataframe tbody tr th {\n",
       "        vertical-align: top;\n",
       "    }\n",
       "\n",
       "    .dataframe thead th {\n",
       "        text-align: right;\n",
       "    }\n",
       "</style>\n",
       "<table border=\"1\" class=\"dataframe\">\n",
       "  <thead>\n",
       "    <tr style=\"text-align: right;\">\n",
       "      <th></th>\n",
       "      <th>title</th>\n",
       "      <th>link</th>\n",
       "      <th>pubDate</th>\n",
       "      <th>source</th>\n",
       "    </tr>\n",
       "  </thead>\n",
       "  <tbody>\n",
       "    <tr>\n",
       "      <th>24</th>\n",
       "      <td>Cybertruck to land with the best Tesla car aud...</td>\n",
       "      <td>https://news.google.com/rss/articles/CBMiiQFod...</td>\n",
       "      <td>2023-06-04 15:22:49+00:00</td>\n",
       "      <td>Notebookcheck.net</td>\n",
       "    </tr>\n",
       "    <tr>\n",
       "      <th>34</th>\n",
       "      <td>Tesla treasure trove found in China after 13 y...</td>\n",
       "      <td>https://news.google.com/rss/articles/CBMiRmh0d...</td>\n",
       "      <td>2023-06-04 15:08:00+00:00</td>\n",
       "      <td>Fox News</td>\n",
       "    </tr>\n",
       "    <tr>\n",
       "      <th>39</th>\n",
       "      <td>Tesla crashes into FL home • FL grandmother lo...</td>\n",
       "      <td>https://news.google.com/rss/articles/CBMihwFod...</td>\n",
       "      <td>2023-06-04 15:05:34+00:00</td>\n",
       "      <td>FOX 35 Orlando</td>\n",
       "    </tr>\n",
       "    <tr>\n",
       "      <th>30</th>\n",
       "      <td>Dow Jones Futures: Market Rally Shows Characte...</td>\n",
       "      <td>https://news.google.com/rss/articles/CBMihQFod...</td>\n",
       "      <td>2023-06-04 15:02:00+00:00</td>\n",
       "      <td>Investor's Business Daily</td>\n",
       "    </tr>\n",
       "    <tr>\n",
       "      <th>23</th>\n",
       "      <td>Tesla News This Week: A Look at Software Updat...</td>\n",
       "      <td>https://news.google.com/rss/articles/CBMiiAFod...</td>\n",
       "      <td>2023-06-04 14:53:43+00:00</td>\n",
       "      <td>Not a Tesla App</td>\n",
       "    </tr>\n",
       "    <tr>\n",
       "      <th>...</th>\n",
       "      <td>...</td>\n",
       "      <td>...</td>\n",
       "      <td>...</td>\n",
       "      <td>...</td>\n",
       "    </tr>\n",
       "    <tr>\n",
       "      <th>89</th>\n",
       "      <td>20 Tesla vehicles will replace entire police d...</td>\n",
       "      <td>https://news.google.com/rss/articles/CBMiSWh0d...</td>\n",
       "      <td>2023-05-09 07:00:00+00:00</td>\n",
       "      <td>Electrek</td>\n",
       "    </tr>\n",
       "    <tr>\n",
       "      <th>87</th>\n",
       "      <td>He Died Helping Build Tesla's Gigafactory. Tes...</td>\n",
       "      <td>https://news.google.com/rss/articles/CBMiT2h0d...</td>\n",
       "      <td>2023-05-09 07:00:00+00:00</td>\n",
       "      <td>The American Prospect</td>\n",
       "    </tr>\n",
       "    <tr>\n",
       "      <th>71</th>\n",
       "      <td>Elon Musk and Tesla break ground on massive Te...</td>\n",
       "      <td>https://news.google.com/rss/articles/CBMihQFod...</td>\n",
       "      <td>2023-05-09 07:00:00+00:00</td>\n",
       "      <td>Reuters.com</td>\n",
       "    </tr>\n",
       "    <tr>\n",
       "      <th>99</th>\n",
       "      <td>Elon Musk teases free Tesla FSD trial in North...</td>\n",
       "      <td>https://news.google.com/rss/articles/CBMiWWh0d...</td>\n",
       "      <td>2023-05-08 07:00:00+00:00</td>\n",
       "      <td>TechCrunch</td>\n",
       "    </tr>\n",
       "    <tr>\n",
       "      <th>90</th>\n",
       "      <td>Tesla Model S Plaid Track Package Unlocks 200-...</td>\n",
       "      <td>https://news.google.com/rss/articles/CBMiYGh0d...</td>\n",
       "      <td>2023-05-05 07:00:00+00:00</td>\n",
       "      <td>Car and Driver</td>\n",
       "    </tr>\n",
       "  </tbody>\n",
       "</table>\n",
       "<p>104 rows × 4 columns</p>\n",
       "</div>"
      ],
      "text/plain": [
       "                                                title  \\\n",
       "24  Cybertruck to land with the best Tesla car aud...   \n",
       "34  Tesla treasure trove found in China after 13 y...   \n",
       "39  Tesla crashes into FL home • FL grandmother lo...   \n",
       "30  Dow Jones Futures: Market Rally Shows Characte...   \n",
       "23  Tesla News This Week: A Look at Software Updat...   \n",
       "..                                                ...   \n",
       "89  20 Tesla vehicles will replace entire police d...   \n",
       "87  He Died Helping Build Tesla's Gigafactory. Tes...   \n",
       "71  Elon Musk and Tesla break ground on massive Te...   \n",
       "99  Elon Musk teases free Tesla FSD trial in North...   \n",
       "90  Tesla Model S Plaid Track Package Unlocks 200-...   \n",
       "\n",
       "                                                 link  \\\n",
       "24  https://news.google.com/rss/articles/CBMiiQFod...   \n",
       "34  https://news.google.com/rss/articles/CBMiRmh0d...   \n",
       "39  https://news.google.com/rss/articles/CBMihwFod...   \n",
       "30  https://news.google.com/rss/articles/CBMihQFod...   \n",
       "23  https://news.google.com/rss/articles/CBMiiAFod...   \n",
       "..                                                ...   \n",
       "89  https://news.google.com/rss/articles/CBMiSWh0d...   \n",
       "87  https://news.google.com/rss/articles/CBMiT2h0d...   \n",
       "71  https://news.google.com/rss/articles/CBMihQFod...   \n",
       "99  https://news.google.com/rss/articles/CBMiWWh0d...   \n",
       "90  https://news.google.com/rss/articles/CBMiYGh0d...   \n",
       "\n",
       "                     pubDate                     source  \n",
       "24 2023-06-04 15:22:49+00:00          Notebookcheck.net  \n",
       "34 2023-06-04 15:08:00+00:00                   Fox News  \n",
       "39 2023-06-04 15:05:34+00:00             FOX 35 Orlando  \n",
       "30 2023-06-04 15:02:00+00:00  Investor's Business Daily  \n",
       "23 2023-06-04 14:53:43+00:00            Not a Tesla App  \n",
       "..                       ...                        ...  \n",
       "89 2023-05-09 07:00:00+00:00                   Electrek  \n",
       "87 2023-05-09 07:00:00+00:00      The American Prospect  \n",
       "71 2023-05-09 07:00:00+00:00                Reuters.com  \n",
       "99 2023-05-08 07:00:00+00:00                 TechCrunch  \n",
       "90 2023-05-05 07:00:00+00:00             Car and Driver  \n",
       "\n",
       "[104 rows x 4 columns]"
      ]
     },
     "execution_count": 17,
     "metadata": {},
     "output_type": "execute_result"
    }
   ],
   "source": [
    "df"
   ]
  },
  {
   "cell_type": "markdown",
   "metadata": {
    "heading_collapsed": true
   },
   "source": [
    "# Bloomberg - TODO"
   ]
  },
  {
   "cell_type": "code",
   "execution_count": 24,
   "metadata": {
    "hidden": true
   },
   "outputs": [],
   "source": [
    "headers = {'User-Agent': 'Mozilla/5.0 (Windows NT 6.1; WOW64; rv:20.0) Gecko/20100101 Firefox/20.0'}\n",
    "bloomberg_url = f'https://www.bloomberg.com/search?query={search_term}'\n",
    "page = requests.get(bloomberg_url, headers=headers)"
   ]
  },
  {
   "cell_type": "code",
   "execution_count": 25,
   "metadata": {
    "hidden": true
   },
   "outputs": [
    {
     "data": {
      "text/plain": [
       "<Response [200]>"
      ]
     },
     "execution_count": 25,
     "metadata": {},
     "output_type": "execute_result"
    }
   ],
   "source": [
    "page"
   ]
  },
  {
   "cell_type": "code",
   "execution_count": 26,
   "metadata": {
    "hidden": true
   },
   "outputs": [
    {
     "data": {
      "text/plain": [
       "'<!doctype html>\\n<html lang=\"en\">\\n<head>\\n    <title>Bloomberg - Are you a robot?</title>\\n    <meta name=\"viewport\" content=\"width=device-width, initial-scale=1\">\\n    <meta name=\"robots\" content=\"noindex\">\\n    <style rel=\"stylesheet\">\\n        @font-face {\\n            font-family: BWHaasGroteskWeb;\\n            font-display: swap;\\n            font-weight: 400;\\n            font-style: normal;\\n            src: url(\\'https://assets.bwbx.io/s3/fontservice/fonts/BWHaasGrotesk-55Roman-Web-7998fbcba8.eot\\');\\n            src: local(\\'?\\'), url(\\'https://assets.bwbx.io/s3/fontservice/fonts/BWHaasGrotesk-55Roman-Web-5cf5733cd9.woff2\\') format(\\'woff2\\'), url(\\'https://assets.bwbx.io/s3/fontservice/fonts/BWHaasGrotesk-55Roman-Web-a1ea4fd367.woff\\') format(\\'woff\\')\\n        }\\n\\n        @font-face {\\n            font-family: BWHaasGroteskWeb;\\n            font-display: swap;\\n            font-weight: 700;\\n            font-style: normal;\\n            src: url(\\'https://assets.bwbx.io/s3/fontservice/fonts/BWHaasGrotesk-75Bold-Web-de8c77cce2.woff2\\') format(\\'woff2\\'), url(\\'https://assets.bwbx.io/s3/fontservice/fonts/BWHaasGrotesk-75Bold-Web-506363704e.woff\\') format(\\'woff\\')\\n        }\\n    </style>\\n    <style rel=\"stylesheet\">\\n        html, body, div, span, applet, object, iframe,\\n        h1, h2, h3, h4, h5, h6, p, blockquote, pre,\\n        a, abbr, acronym, address, big, cite, code,\\n        del, dfn, em, img, ins, kbd, q, s, samp,\\n        small, strike, strong, sub, sup, tt, var,\\n        b, u, i, center,\\n        dl, dt, dd, ol, ul, li,\\n        fieldset, form, label, legend,\\n        table, caption, tbody, tfoot, thead, tr, th, td,\\n        article, aside, canvas, details, embed,\\n        figure, figcaption, footer, header, hgroup,\\n        menu, nav, output, ruby, section, summary,\\n        time, mark, audio, video {\\n            margin: 0;\\n            padding: 0;\\n            border: 0;\\n            font-size: 100%;\\n            font: inherit;\\n            vertical-align: baseline;\\n        }\\n\\n        /* HTML5 display-role reset for older browsers */\\n        article, aside, details, figcaption, figure,\\n        footer, header, hgroup, menu, nav, section {\\n            display: block;\\n        }\\n\\n        body {\\n            line-height: 1;\\n        }\\n\\n        ol, ul {\\n            list-style: none;\\n        }\\n\\n        blockquote, q {\\n            quotes: none;\\n        }\\n\\n        blockquote:before, blockquote:after,\\n        q:before, q:after {\\n            content: \\'\\';\\n            content: none;\\n        }\\n\\n        table {\\n            border-collapse: collapse;\\n            border-spacing: 0;\\n        }\\n\\n        * {\\n            box-sizing: border-box;\\n        }\\n\\n        body {\\n            background-color: #f2f2f2;\\n            font-family: \"BWHaasGroteskWeb\", Helvetica, Arial, sans-serif;\\n            line-height: 1.2;\\n        }\\n\\n        .header {\\n            margin: 0;\\n            height: 60px;\\n            width: 100%;\\n            background-color: black;\\n            color: white;\\n            overflow-x: hidden;\\n        }\\n\\n        .logo {\\n            float: left;\\n            margin: 0 20px;\\n            height: 60px;\\n            width: 140px;\\n            background-image: url(\\'data:image/svg+xml;base64,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\\');\\n            background-repeat: no-repeat;\\n            background-position: center;\\n            font-size: 0;\\n        }\\n\\n        .contact-us {\\n            float: right;\\n            margin: 0 20px;\\n            line-height: 60px;\\n            font-family: \"BWHaasGroteskWeb\", Helvetica, Arial, sans-serif;\\n            font-size: 14px;\\n            color: white;\\n            text-decoration: underline;\\n        }\\n\\n        .box {\\n            margin: 30px auto;\\n            padding: 30px;\\n            width: 680px;\\n            background-color: white;\\n        }\\n\\n        @media (max-width: 760px) {\\n            .box {\\n                width: calc(100% - 20px);\\n            }\\n        }\\n\\n        .main__heading, .info__heading {\\n            font-family: \"BWHaasGroteskWeb\", Helvetica, Arial, sans-serif;\\n            font-weight: bold;\\n        }\\n\\n        .main__heading {\\n            font-size: 19px;\\n            padding-bottom: 9px;\\n        }\\n\\n        .continue {\\n            font-size: 18px;\\n        }\\n\\n        #px-captcha {\\n            margin-top: 20px;\\n            min-height: 80px;\\n        }\\n\\n        .info {\\n            border-top: dotted 1px black;\\n            padding-top: 9px;\\n        }\\n\\n        .info + .info {\\n            margin-top: 30px;\\n        }\\n\\n        .info__link {\\n            color: black;\\n            text-decoration: underline;\\n        }\\n\\n        .info__heading {\\n            font-size: 16px;\\n            line-height: 20px;\\n            padding-bottom: 9px;\\n        }\\n\\n        .info__text {\\n            padding-bottom: 9px;\\n        }\\n\\n        #block_uuid {\\n            display: inline-block;\\n            padding: 6px;\\n            background-color: #f2f2f2;\\n            font-family: monospace;\\n            font-size: 14px;\\n        }\\n    </style>\\n    <script>\\n        window._pxAppId = \"PX8FCGYgk4\";\\n        window._pxJsClientSrc = \"/8FCGYgk4/init.js\";\\n        window._pxFirstPartyEnabled = true;\\n        window._pxHostUrl = \"/8FCGYgk4/xhr\";\\n        window._pxreCaptchaTheme = \"light\";\\n        window._pxUuid = qs(\"uuid\");\\n\\n        if (!window._pxUuid) {\\n            window.pxInit = function (px) {\\n                px.Events.one(\"uid\", function (uuid) {\\n                    if (uuid) {\\n                        document.getElementById(\"block_uuid\").textContent = `Block reference ID: ${ uuid }`;\\n                    }\\n                });\\n            };\\n        }\\n\\n        function qs(name) {\\n            const search = new URLSearchParams(window.location.search);\\n\\n            return search.get(name) || \"\";\\n        }\\n    </script>\\n    <script src=\"/8FCGYgk4/captcha/captcha.js?a=c&m=0\" async></script>\\n</head>\\n<body>\\n<header class=\"header\">\\n    <h1 class=\"logo\">Bloomberg</h1>\\n    <a class=\"contact-us\" href=\"/feedback\">Need help? Contact us</a>\\n</header>\\n<section class=\"box main\">\\n    <h2 class=\"main__heading\">We\\'ve detected unusual activity from your computer network</h2>\\n    <p class=\"continue\">To continue, please click the box below to let us know you\\'re not a robot.</p>\\n    <div id=\"px-captcha\"></div>\\n</section>\\n<section class=\"box\">\\n    <section class=\"info\">\\n        <h3 class=\"info__heading\">Why did this happen?</h3>\\n        <p class=\"info__text\">Please make sure your browser supports JavaScript and cookies and that you are not\\n            blocking them from loading.\\n            For more information you can review our <a class=\"info__link\"\\n                                                       href=\"/notices/tos\">Terms of\\n                Service</a> and <a class=\"info__link\" href=\"/notices/tos\">Cookie Policy</a>.</p>\\n    </section>\\n    <section class=\"info\">\\n        <h3 class=\"info__heading\">Need Help?</h3>\\n        <p class=\"info__text\">For inquiries related to this message please <a class=\"info__link\" href=\"/feedback\">contact\\n            our support team</a> and provide the reference ID below.</p>\\n        <div id=\"block_uuid\">Block reference ID:</div>\\n    </section>\\n</section>\\n<script type=\"text/javascript\">\\n    document.getElementById(\"block_uuid\").textContent = `Block reference ID: ${ window._pxUuid }`;\\n</script>\\n<!-- Google Tag Manager -->\\n<script>(function(w, d, s, l, i) {\\n        w[l] = w[l] || [];\\n        w[l].push({ \\'gtm.start\\': new Date().getTime(), event: \\'gtm.js\\' });\\n        var f = d.getElementsByTagName(s)[0], j = d.createElement(s), dl = l != \\'dataLayer\\' ? \\'&l=\\' + l : \\'\\';\\n        j.defer = true;\\n        j.src = \\'https://www.googletagmanager.com/gtm.js?id=\\' + i + dl;\\n        f.parentNode.insertBefore(j, f);\\n    })(window, document, \\'script\\', \\'dataLayer\\', \\'GTM-MNTH5N\\');</script>\\n<!-- End Google Tag Manager -->\\n</body>\\n</html>\\n'"
      ]
     },
     "execution_count": 26,
     "metadata": {},
     "output_type": "execute_result"
    }
   ],
   "source": [
    "page.text"
   ]
  },
  {
   "cell_type": "code",
   "execution_count": null,
   "metadata": {
    "hidden": true
   },
   "outputs": [],
   "source": [
    "# Try undetectable chromedriver w/ selenium?"
   ]
  },
  {
   "cell_type": "code",
   "execution_count": null,
   "metadata": {
    "hidden": true
   },
   "outputs": [],
   "source": [
    "# using google news\n",
    "https://news.google.com/rss/search?q=when:24h+allinurl:bloomberg.com&hl=en-US&gl=US&ceid=US:en"
   ]
  },
  {
   "cell_type": "markdown",
   "metadata": {},
   "source": [
    "# CNBC\n",
    "RSS - data delayed 15 minutes"
   ]
  },
  {
   "cell_type": "code",
   "execution_count": 52,
   "metadata": {},
   "outputs": [],
   "source": [
    "def cnbc_rss_url(sector=\"business\"):\n",
    "    sector_dict = {\n",
    "        \"business\": \"10001147\",\n",
    "        \"earnings\": \"15839135\",\n",
    "        \"economy\": \"20910258\",\n",
    "        \"finance\": \"10000664\",\n",
    "        \"tech\": \"19854910\"\n",
    "    }\n",
    "    sector_id = sector_dict[sector]\n",
    "    # cnbc_url = f'https://search.cnbc.com/rs/search/combinedcms/view.xml?partnerId=wrss01&id={id}'\n",
    "    return f\"https://www.cnbc.com/id/{sector_id}/device/rss/rss.html\"\n",
    "\n",
    "page = requests.get(cnbc_rss_url())"
   ]
  },
  {
   "cell_type": "code",
   "execution_count": 54,
   "metadata": {},
   "outputs": [],
   "source": [
    "df = pd.read_xml(page.text, xpath=\".//item\")\n",
    "df.columns = df.columns.str.replace('{http://search.cnbc.com/rss/2.0/modules/siteContentMetadata}', '', regex=False)"
   ]
  },
  {
   "cell_type": "code",
   "execution_count": 55,
   "metadata": {},
   "outputs": [
    {
     "data": {
      "text/plain": [
       "\"At least two bidders are looking to purchase Buy Buy Baby amid Bed Bath & Beyond's bankruptcy, including one that wants to keep 75% of stores open.\""
      ]
     },
     "execution_count": 55,
     "metadata": {},
     "output_type": "execute_result"
    }
   ],
   "source": [
    "df.iloc[0].description"
   ]
  },
  {
   "cell_type": "markdown",
   "metadata": {},
   "source": [
    "# Financial Times"
   ]
  },
  {
   "cell_type": "code",
   "execution_count": 56,
   "metadata": {},
   "outputs": [],
   "source": [
    "ft_url = \"https://www.ft.com/rss/home/uk\""
   ]
  },
  {
   "cell_type": "markdown",
   "metadata": {},
   "source": [
    "# AlphaVantage\n",
    "https://www.alphavantage.co/documentation/"
   ]
  },
  {
   "cell_type": "code",
   "execution_count": 16,
   "metadata": {},
   "outputs": [],
   "source": [
    "av_api_key = \"W4KB22GXZC6HLLMP\"\n",
    "av_base_url = f'https://www.alphavantage.co/query?apikey={av_api_key}'"
   ]
  },
  {
   "cell_type": "code",
   "execution_count": 54,
   "metadata": {},
   "outputs": [],
   "source": [
    "def get_ticker_symbol_from_name(name, base_url=av_base_url, region='United States', matchScore=0.7):\n",
    "    search_url = f'&function=SYMBOL_SEARCH&keywords={name}'\n",
    "    data = requests.get(base_url+search_url).json()\n",
    "    matches = pd.DataFrame.from_records(data['bestMatches'])\n",
    "    matches.columns = matches.columns.str.replace(r'[\\d. ]', '', regex=True)\n",
    "    matches['matchScore'] = matches['matchScore'].astype(\"float\")\n",
    "    matches = matches[(matches['matchScore']>=0.7) & (matches['region']=='United States')]\n",
    "    return matches.iloc[0].symbol"
   ]
  },
  {
   "cell_type": "code",
   "execution_count": null,
   "metadata": {},
   "outputs": [],
   "source": [
    "ticker_symbol = 'TSLA' #get_ticker_symbol_from_name(search_term)"
   ]
  },
  {
   "cell_type": "code",
   "execution_count": 61,
   "metadata": {},
   "outputs": [],
   "source": [
    "news_url = f'&function=NEWS_SENTIMENT&tickers={ticker_symbol}'\n",
    "page = requests.get(av_base_url+news_url)\n",
    "data = page.json()\n",
    "\n",
    "# print(data)"
   ]
  },
  {
   "cell_type": "code",
   "execution_count": null,
   "metadata": {},
   "outputs": [],
   "source": [
    "df = pd.DataFrame.from_records(data['feed'])\n",
    "\n",
    "# set dtypes\n",
    "df['title'] = df['title'].astype(\"string\")\n",
    "df['summary'] = df['summary'].astype(\"string\")\n",
    "df['time_published'] = pd.to_datetime(df['time_published'])\n",
    "df['url'] = df['url'].astype(\"string\")\n",
    "df['source'] = df['source'].astype(\"string\")\n",
    "df['category_within_source'] = df['category_within_source'].astype(\"string\")\n",
    "df['source_domain'] = df['source_domain'].astype(\"string\")\n",
    "df['overall_sentiment_label'] = df['overall_sentiment_label'].astype(\"string\")\n",
    "\n",
    "df = df.rename(columns={\"time_published\": \"pubDate\", \"summary\": \"description\"})\n",
    "df = df.drop(columns=['banner_image'])"
   ]
  },
  {
   "cell_type": "code",
   "execution_count": 62,
   "metadata": {},
   "outputs": [],
   "source": [
    "df"
   ]
  },
  {
   "cell_type": "markdown",
   "metadata": {},
   "source": [
    "## Company Overview\n",
    "This API returns the company information, financial ratios, and other key metrics for the equity specified. Data is generally refreshed on the same day a company reports its latest earnings and financials."
   ]
  },
  {
   "cell_type": "code",
   "execution_count": 65,
   "metadata": {},
   "outputs": [],
   "source": [
    "overview_url = f'&function=OVERVIEW&symbol={ticker_symbol}'\n",
    "r = requests.get(av_base_url + overview_url)\n",
    "data = r.json()"
   ]
  },
  {
   "cell_type": "code",
   "execution_count": 66,
   "metadata": {},
   "outputs": [
    {
     "data": {
      "text/plain": [
       "{'Symbol': 'TSLA',\n",
       " 'AssetType': 'Common Stock',\n",
       " 'Name': 'Tesla Inc',\n",
       " 'Description': \"Tesla, Inc. is an American electric vehicle and clean energy company based in Palo Alto, California. Tesla's current products include electric cars, battery energy storage from home to grid-scale, solar panels and solar roof tiles, as well as other related products and services. In 2020, Tesla had the highest sales in the plug-in and battery electric passenger car segments, capturing 16% of the plug-in market (which includes plug-in hybrids) and 23% of the battery-electric (purely electric) market. Through its subsidiary Tesla Energy, the company develops and is a major installer of solar photovoltaic energy generation systems in the United States. Tesla Energy is also one of the largest global suppliers of battery energy storage systems, with 3 GWh of battery storage supplied in 2020.\",\n",
       " 'CIK': '1318605',\n",
       " 'Exchange': 'NASDAQ',\n",
       " 'Currency': 'USD',\n",
       " 'Country': 'USA',\n",
       " 'Sector': 'MANUFACTURING',\n",
       " 'Industry': 'MOTOR VEHICLES & PASSENGER CAR BODIES',\n",
       " 'Address': '3500 DEER CREEK RD, PALO ALTO, CA, US',\n",
       " 'FiscalYearEnd': 'December',\n",
       " 'LatestQuarter': '2023-03-31',\n",
       " 'MarketCapitalization': '678178800000',\n",
       " 'EBITDA': '16666000000',\n",
       " 'PERatio': '57.38',\n",
       " 'PEGRatio': '1.281',\n",
       " 'BookValue': '15.16',\n",
       " 'DividendPerShare': '0',\n",
       " 'DividendYield': '0',\n",
       " 'EPS': '3.397',\n",
       " 'RevenuePerShareTTM': '27.35',\n",
       " 'ProfitMargin': '0.137',\n",
       " 'OperatingMarginTTM': '0.148',\n",
       " 'ReturnOnAssetsTTM': '0.104',\n",
       " 'ReturnOnEquityTTM': '28.7',\n",
       " 'RevenueTTM': '86034997000',\n",
       " 'GrossProfitTTM': '20853000000',\n",
       " 'DilutedEPSTTM': '3.47',\n",
       " 'QuarterlyEarningsGrowthYOY': '-0.232',\n",
       " 'QuarterlyRevenueGrowthYOY': '0.244',\n",
       " 'AnalystTargetPrice': '181.07',\n",
       " 'TrailingPE': '61.66',\n",
       " 'ForwardPE': '28.82',\n",
       " 'PriceToSalesRatioTTM': '6.65',\n",
       " 'PriceToBookRatio': '12.42',\n",
       " 'EVToRevenue': '6.41',\n",
       " 'EVToEBITDA': '29.61',\n",
       " 'Beta': '2.003',\n",
       " '52WeekHigh': '314.67',\n",
       " '52WeekLow': '101.81',\n",
       " '50DayMovingAverage': '180.23',\n",
       " '200DayMovingAverage': '198.34',\n",
       " 'SharesOutstanding': '3169500000',\n",
       " 'DividendDate': 'None',\n",
       " 'ExDividendDate': 'None'}"
      ]
     },
     "execution_count": 66,
     "metadata": {},
     "output_type": "execute_result"
    }
   ],
   "source": [
    "data"
   ]
  },
  {
   "cell_type": "markdown",
   "metadata": {},
   "source": [
    "## Income Statement\n",
    "This API returns the annual and quarterly income statements for the company of interest, with normalized fields mapped to GAAP and IFRS taxonomies of the SEC. Data is generally refreshed on the same day a company reports its latest earnings and financials."
   ]
  },
  {
   "cell_type": "code",
   "execution_count": 82,
   "metadata": {},
   "outputs": [],
   "source": [
    "income_url = f'&function=INCOME_STATEMENT&symbol={ticker_symbol}'\n",
    "r = requests.get(av_base_url + income_url)\n",
    "data = r.json()"
   ]
  },
  {
   "cell_type": "code",
   "execution_count": 86,
   "metadata": {},
   "outputs": [],
   "source": [
    "annual = data['annualReports']\n",
    "quarterly = data['quarterlyReports']"
   ]
  },
  {
   "cell_type": "code",
   "execution_count": 87,
   "metadata": {},
   "outputs": [
    {
     "data": {
      "text/plain": [
       "{'fiscalDateEnding': '2022-12-31',\n",
       " 'reportedCurrency': 'USD',\n",
       " 'grossProfit': '20853000000',\n",
       " 'totalRevenue': '81462000000',\n",
       " 'costOfRevenue': '60609000000',\n",
       " 'costofGoodsAndServicesSold': '604000000',\n",
       " 'operatingIncome': '13656000000',\n",
       " 'sellingGeneralAndAdministrative': '3946000000',\n",
       " 'researchAndDevelopment': '3075000000',\n",
       " 'operatingExpenses': '7197000000',\n",
       " 'investmentIncomeNet': '297000000',\n",
       " 'netInterestIncome': '-191000000',\n",
       " 'interestIncome': '41000000',\n",
       " 'interestExpense': '191000000',\n",
       " 'nonInterestIncome': '-81000000',\n",
       " 'otherNonOperatingIncome': '-43000000',\n",
       " 'depreciation': '2420000000',\n",
       " 'depreciationAndAmortization': '493000000',\n",
       " 'incomeBeforeTax': '13688000000',\n",
       " 'incomeTaxExpense': '1132000000',\n",
       " 'interestAndDebtExpense': '191000000',\n",
       " 'netIncomeFromContinuingOperations': '12587000000',\n",
       " 'comprehensiveIncomeNetOfTax': '12141000000',\n",
       " 'ebit': '13879000000',\n",
       " 'ebitda': '14372000000',\n",
       " 'netIncome': '12556000000'}"
      ]
     },
     "execution_count": 87,
     "metadata": {},
     "output_type": "execute_result"
    }
   ],
   "source": [
    "annual[0]"
   ]
  },
  {
   "cell_type": "markdown",
   "metadata": {},
   "source": [
    "## Balance Sheet\n",
    "This API returns the annual and quarterly balance sheets for the company of interest, with normalized fields mapped to GAAP and IFRS taxonomies of the SEC. Data is generally refreshed on the same day a company reports its latest earnings and financials."
   ]
  },
  {
   "cell_type": "code",
   "execution_count": 88,
   "metadata": {},
   "outputs": [],
   "source": [
    "balance_url = f'&function=BALANCE_SHEET&symbol={ticker_symbol}'\n",
    "r = requests.get(av_base_url + balance_url)\n",
    "data = r.json()"
   ]
  },
  {
   "cell_type": "code",
   "execution_count": 89,
   "metadata": {},
   "outputs": [],
   "source": [
    "annual = data['annualReports']\n",
    "quarterly = data['quarterlyReports']"
   ]
  },
  {
   "cell_type": "code",
   "execution_count": 90,
   "metadata": {},
   "outputs": [
    {
     "data": {
      "text/plain": [
       "{'fiscalDateEnding': '2022-12-31',\n",
       " 'reportedCurrency': 'USD',\n",
       " 'totalAssets': '82338000000',\n",
       " 'totalCurrentAssets': '40917000000',\n",
       " 'cashAndCashEquivalentsAtCarryingValue': '16253000000',\n",
       " 'cashAndShortTermInvestments': '22185000000',\n",
       " 'inventory': '12839000000',\n",
       " 'currentNetReceivables': '2959000000',\n",
       " 'totalNonCurrentAssets': '32209000000',\n",
       " 'propertyPlantEquipment': '23548000000',\n",
       " 'accumulatedDepreciationAmortizationPPE': '9041000000',\n",
       " 'intangibleAssets': '409000000',\n",
       " 'intangibleAssetsExcludingGoodwill': '215000000',\n",
       " 'goodwill': '194000000',\n",
       " 'investments': '22185000000',\n",
       " 'longTermInvestments': 'None',\n",
       " 'shortTermInvestments': '5932000000',\n",
       " 'otherCurrentAssets': '2941000000',\n",
       " 'otherNonCurrentAssets': '4193000000',\n",
       " 'totalLiabilities': '36440000000',\n",
       " 'totalCurrentLiabilities': '26709000000',\n",
       " 'currentAccountsPayable': '15255000000',\n",
       " 'deferredRevenue': '7464000000',\n",
       " 'currentDebt': '1016000000',\n",
       " 'shortTermDebt': '530000000',\n",
       " 'totalNonCurrentLiabilities': '10866000000',\n",
       " 'capitalLeaseObligations': '568000000',\n",
       " 'longTermDebt': '1029000000',\n",
       " 'currentLongTermDebt': '1016000000',\n",
       " 'longTermDebtNoncurrent': 'None',\n",
       " 'shortLongTermDebtTotal': '1559000000',\n",
       " 'otherCurrentLiabilities': '354000000',\n",
       " 'otherNonCurrentLiabilities': '5330000000',\n",
       " 'totalShareholderEquity': '44704000000',\n",
       " 'treasuryStock': 'None',\n",
       " 'retainedEarnings': '12885000000',\n",
       " 'commonStock': '3000000',\n",
       " 'commonStockSharesOutstanding': '3164000000'}"
      ]
     },
     "execution_count": 90,
     "metadata": {},
     "output_type": "execute_result"
    }
   ],
   "source": [
    "annual[0]"
   ]
  },
  {
   "cell_type": "markdown",
   "metadata": {},
   "source": [
    "## Cash Flow\n",
    "This API returns the annual and quarterly cash flow for the company of interest, with normalized fields mapped to GAAP and IFRS taxonomies of the SEC. Data is generally refreshed on the same day a company reports its latest earnings and financials."
   ]
  },
  {
   "cell_type": "code",
   "execution_count": 91,
   "metadata": {},
   "outputs": [],
   "source": [
    "cashflow_url = f'&function=CASH_FLOW&symbol={ticker_symbol}'\n",
    "r = requests.get(av_base_url + cashflow_url)\n",
    "data = r.json()"
   ]
  },
  {
   "cell_type": "code",
   "execution_count": 92,
   "metadata": {},
   "outputs": [],
   "source": [
    "annual = data['annualReports']\n",
    "quarterly = data['quarterlyReports']"
   ]
  },
  {
   "cell_type": "code",
   "execution_count": 93,
   "metadata": {},
   "outputs": [
    {
     "data": {
      "text/plain": [
       "{'fiscalDateEnding': '2022-12-31',\n",
       " 'reportedCurrency': 'USD',\n",
       " 'operatingCashflow': '14724000000',\n",
       " 'paymentsForOperatingActivities': '2184000000',\n",
       " 'proceedsFromOperatingActivities': 'None',\n",
       " 'changeInOperatingLiabilities': '9064000000',\n",
       " 'changeInOperatingAssets': '11557000000',\n",
       " 'depreciationDepletionAndAmortization': '2913000000',\n",
       " 'capitalExpenditures': '7158000000',\n",
       " 'changeInReceivables': '1124000000',\n",
       " 'changeInInventory': '6465000000',\n",
       " 'profitLoss': '12587000000',\n",
       " 'cashflowFromInvestment': '-11973000000',\n",
       " 'cashflowFromFinancing': '-3527000000',\n",
       " 'proceedsFromRepaymentsOfShortTermDebt': 'None',\n",
       " 'paymentsForRepurchaseOfCommonStock': 'None',\n",
       " 'paymentsForRepurchaseOfEquity': 'None',\n",
       " 'paymentsForRepurchaseOfPreferredStock': 'None',\n",
       " 'dividendPayout': 'None',\n",
       " 'dividendPayoutCommonStock': 'None',\n",
       " 'dividendPayoutPreferredStock': 'None',\n",
       " 'proceedsFromIssuanceOfCommonStock': '0',\n",
       " 'proceedsFromIssuanceOfLongTermDebtAndCapitalSecuritiesNet': 'None',\n",
       " 'proceedsFromIssuanceOfPreferredStock': 'None',\n",
       " 'proceedsFromRepurchaseOfEquity': '541000000',\n",
       " 'proceedsFromSaleOfTreasuryStock': 'None',\n",
       " 'changeInCashAndCashEquivalents': 'None',\n",
       " 'changeInExchangeRate': 'None',\n",
       " 'netIncome': '12556000000'}"
      ]
     },
     "execution_count": 93,
     "metadata": {},
     "output_type": "execute_result"
    }
   ],
   "source": [
    "annual[0]"
   ]
  },
  {
   "cell_type": "markdown",
   "metadata": {},
   "source": [
    "## Earnings\n",
    "This API returns the annual and quarterly earnings (EPS) for the company of interest. Quarterly data also includes analyst estimates and surprise metrics."
   ]
  },
  {
   "cell_type": "code",
   "execution_count": 94,
   "metadata": {},
   "outputs": [],
   "source": [
    "earnings_url = f'&function=EARNINGS&symbol={ticker_symbol}'\n",
    "r = requests.get(av_base_url + earnings_url)\n",
    "data = r.json()"
   ]
  },
  {
   "cell_type": "code",
   "execution_count": 95,
   "metadata": {},
   "outputs": [],
   "source": [
    "annualEarnings = data['annualEarnings']\n",
    "quarterlyEarnings = data['quarterlyEarnings']"
   ]
  },
  {
   "cell_type": "code",
   "execution_count": 98,
   "metadata": {},
   "outputs": [
    {
     "data": {
      "text/plain": [
       "{'fiscalDateEnding': '2023-03-31', 'reportedEPS': '0.85'}"
      ]
     },
     "execution_count": 98,
     "metadata": {},
     "output_type": "execute_result"
    }
   ],
   "source": [
    "annualEarnings[0]"
   ]
  },
  {
   "cell_type": "code",
   "execution_count": null,
   "metadata": {},
   "outputs": [],
   "source": []
  }
 ],
 "metadata": {
  "kernelspec": {
   "display_name": "Python 3",
   "language": "python",
   "name": "python3"
  },
  "language_info": {
   "codemirror_mode": {
    "name": "ipython",
    "version": 3
   },
   "file_extension": ".py",
   "mimetype": "text/x-python",
   "name": "python",
   "nbconvert_exporter": "python",
   "pygments_lexer": "ipython3",
   "version": "3.7.6"
  },
  "toc": {
   "base_numbering": 1,
   "nav_menu": {},
   "number_sections": true,
   "sideBar": true,
   "skip_h1_title": false,
   "title_cell": "Table of Contents",
   "title_sidebar": "Contents",
   "toc_cell": false,
   "toc_position": {},
   "toc_section_display": true,
   "toc_window_display": false
  },
  "varInspector": {
   "cols": {
    "lenName": 16,
    "lenType": 16,
    "lenVar": 40
   },
   "kernels_config": {
    "python": {
     "delete_cmd_postfix": "",
     "delete_cmd_prefix": "del ",
     "library": "var_list.py",
     "varRefreshCmd": "print(var_dic_list())"
    },
    "r": {
     "delete_cmd_postfix": ") ",
     "delete_cmd_prefix": "rm(",
     "library": "var_list.r",
     "varRefreshCmd": "cat(var_dic_list()) "
    }
   },
   "types_to_exclude": [
    "module",
    "function",
    "builtin_function_or_method",
    "instance",
    "_Feature"
   ],
   "window_display": false
  }
 },
 "nbformat": 4,
 "nbformat_minor": 4
}
